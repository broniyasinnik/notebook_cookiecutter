{
 "cells": [
  {
   "cell_type": "markdown",
   "id": "2c9aae40-7f2f-421d-8ae7-0ad685da5453",
   "metadata": {},
   "source": [
    "## {{cookiecutter.project_name}}\n",
    "\n",
    "{{cookiecutter.description}}\n"
   ]
  },
  {
   "cell_type": "code",
   "execution_count": 1,
   "id": "eba4a570-a450-4140-a5a9-fabd8a9e11ba",
   "metadata": {},
   "outputs": [],
   "source": [
    "import os\n",
    "import sys\n",
    "from pathlib import Path\n",
    "\n",
    "import papermill as pm"
   ]
  },
  {
   "cell_type": "markdown",
   "id": "0035bf27-6e9b-4c9b-8353-519069c48ae9",
   "metadata": {},
   "source": [
    "## Run notebook with parameters"
   ]
  },
  {
   "cell_type": "code",
   "execution_count": null,
   "id": "3dfeeab8-c766-4448-b621-4d82ebaa91e2",
   "metadata": {},
   "outputs": [],
   "source": [
    "notebook = \"2-EDA.ipynb\"\n",
    "pm.inspect_notebook(notebook)"
   ]
  },
  {
   "cell_type": "code",
   "execution_count": null,
   "id": "b943e15c-ac34-42e7-a7e2-974a499a21fd",
   "metadata": {},
   "outputs": [],
   "source": [
    "notebook_params = [\n",
    "    dict(name=\"nb1\", param1=\"...\", param2=\"...\", param3=\"...\"),\n",
    "    dict(name=\"nb2\", param1=\"...\", param2=\"...\", param3=\"...\"),\n",
    "    dict(name=\"nb3\", param1=\"...\", param2=\"...\", param3=\"...\"),\n",
    "]\n",
    "\n",
    "save_dir = f\"./papermill/{notebook.removesuffix('.ipynb')}\"\n",
    "os.makedirs(save_dir, exist_ok=True)\n",
    "for params in notebook_params:\n",
    "    pm.execute_notebook(\n",
    "        f\"./{notebook}\",\n",
    "        Path(save_dir)/f\"{params['name']}.ipynb\",\n",
    "        parameters=params,\n",
    "    )"
   ]
  }
 ],
 "metadata": {
  "kernelspec": {
   "display_name": "ios14",
   "language": "python",
   "name": "ios14"
  },
  "language_info": {
   "codemirror_mode": {
    "name": "ipython",
    "version": 3
   },
   "file_extension": ".py",
   "mimetype": "text/x-python",
   "name": "python",
   "nbconvert_exporter": "python",
   "pygments_lexer": "ipython3",
   "version": "3.9.16"
  }
 },
 "nbformat": 4,
 "nbformat_minor": 5
}
